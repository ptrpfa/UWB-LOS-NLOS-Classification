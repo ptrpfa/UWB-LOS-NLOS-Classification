{
 "cells": [
  {
   "cell_type": "code",
   "execution_count": 2,
   "metadata": {},
   "outputs": [],
   "source": [
    "import pandas as pd\n",
    "import numpy as np\n",
    "from misc import save_to_pickle, load_from_pickle\n",
    "\n",
    "# Load the dataset\n",
    "df1 = pd.read_csv('./dataset/UWB-LOS-NLOS-Data-Set/dataset/uwb_dataset_part1.csv')\n",
    "df2 = pd.read_csv('./dataset/UWB-LOS-NLOS-Data-Set/dataset/uwb_dataset_part2.csv')\n",
    "df3 = pd.read_csv('./dataset/UWB-LOS-NLOS-Data-Set/dataset/uwb_dataset_part3.csv')\n",
    "df4 = pd.read_csv('./dataset/UWB-LOS-NLOS-Data-Set/dataset/uwb_dataset_part4.csv')\n",
    "df5 = pd.read_csv('./dataset/UWB-LOS-NLOS-Data-Set/dataset/uwb_dataset_part5.csv')\n",
    "df6 = pd.read_csv('./dataset/UWB-LOS-NLOS-Data-Set/dataset/uwb_dataset_part6.csv')\n",
    "df7 = pd.read_csv('./dataset/UWB-LOS-NLOS-Data-Set/dataset/uwb_dataset_part7.csv')\n",
    "\n",
    "# Consolidating the datasets into a single data frame\n",
    "df = pd.concat([df1, df2, df3, df4, df5, df6, df7])\n"
   ]
  },
  {
   "cell_type": "markdown",
   "metadata": {},
   "source": [
    "K-fold to ensure generalisation of dataset classes, as there could potentially be some datasets that are heavy LOS / NLOS. Performing K-fold has now ensured that the dataset is evenly balanced"
   ]
  },
  {
   "cell_type": "code",
   "execution_count": 8,
   "metadata": {},
   "outputs": [
    {
     "name": "stdout",
     "output_type": "stream",
     "text": [
      "      NLOS  RANGE  FP_IDX  FP_AMP1  FP_AMP2  FP_AMP3  STDEV_NOISE  CIR_PWR  \\\n",
      "2864   1.0   5.59   746.0   5828.0   3491.0   2089.0         64.0   5332.0   \n",
      "603    0.0   3.89   744.0  12137.0  18094.0  12767.0         64.0   7752.0   \n",
      "3740   1.0   1.59   746.0   1832.0  10614.0  11678.0         48.0  12153.0   \n",
      "5392   1.0   9.24   730.0   1008.0   1547.0   1518.0         84.0   1928.0   \n",
      "5220   0.0   3.58   744.0   6502.0   6725.0   4336.0        120.0  18449.0   \n",
      "...    ...    ...     ...      ...      ...      ...          ...      ...   \n",
      "4973   0.0   3.74   743.0  13656.0  18752.0  10700.0         60.0   9329.0   \n",
      "901    0.0   0.34   749.0  19237.0  18990.0  16568.0         84.0  12864.0   \n",
      "268    1.0   5.65   744.0   6564.0   9817.0   9940.0         72.0   4496.0   \n",
      "4483   1.0   5.78   750.0   4792.0  14284.0  18298.0        156.0   7599.0   \n",
      "2522   1.0   1.65   749.0  10951.0   8834.0   5974.0         72.0  10648.0   \n",
      "\n",
      "      MAX_NOISE  RXPACC  ...  CIR1006  CIR1007  CIR1008  CIR1009  CIR1010  \\\n",
      "2864      977.0  1024.0  ...    513.0    358.0    145.0    185.0     89.0   \n",
      "603      1676.0   280.0  ...    206.0    269.0    239.0    212.0    224.0   \n",
      "3740      751.0   457.0  ...    188.0    199.0    157.0     81.0     95.0   \n",
      "5392     1249.0  1025.0  ...     50.0    243.0    475.0    197.0    409.0   \n",
      "5220     1836.0   510.0  ...    933.0    231.0    293.0    266.0    208.0   \n",
      "...         ...     ...  ...      ...      ...      ...      ...      ...   \n",
      "4973     1562.0   284.0  ...    304.0    224.0    102.0    270.0     95.0   \n",
      "901      2127.0   285.0  ...    306.0    277.0    226.0    230.0    116.0   \n",
      "268      1080.0  1024.0  ...    185.0    272.0    249.0    276.0    368.0   \n",
      "4483     2386.0   622.0  ...    106.0    344.0    377.0    214.0    401.0   \n",
      "2522     1091.0  1024.0  ...    293.0    239.0    219.0    330.0    461.0   \n",
      "\n",
      "      CIR1011  CIR1012  CIR1013  CIR1014  CIR1015  \n",
      "2864    167.0    254.0    224.0    209.0    256.0  \n",
      "603     301.0    169.0    281.0    306.0    256.0  \n",
      "3740     96.0     99.0     72.0     92.0      0.0  \n",
      "5392    155.0    302.0    366.0    188.0      0.0  \n",
      "5220    583.0    999.0    490.0    746.0      0.0  \n",
      "...       ...      ...      ...      ...      ...  \n",
      "4973    274.0    246.0    289.0    184.0      0.0  \n",
      "901     258.0    220.0    324.0     45.0      0.0  \n",
      "268     218.0    529.0    283.0    334.0      0.0  \n",
      "4483    251.0    721.0    808.0    486.0    512.0  \n",
      "2522    334.0    145.0    273.0    294.0    256.0  \n",
      "\n",
      "[42000 rows x 1031 columns]\n"
     ]
    }
   ],
   "source": [
    "import pandas as pd\n",
    "from sklearn.model_selection import train_test_split\n",
    "\n",
    "# Load the dataset\n",
    "df1 = pd.read_csv('./dataset/UWB-LOS-NLOS-Data-Set/dataset/uwb_dataset_part1.csv')\n",
    "df2 = pd.read_csv('./dataset/UWB-LOS-NLOS-Data-Set/dataset/uwb_dataset_part2.csv')\n",
    "df3 = pd.read_csv('./dataset/UWB-LOS-NLOS-Data-Set/dataset/uwb_dataset_part3.csv')\n",
    "df4 = pd.read_csv('./dataset/UWB-LOS-NLOS-Data-Set/dataset/uwb_dataset_part4.csv')\n",
    "df5 = pd.read_csv('./dataset/UWB-LOS-NLOS-Data-Set/dataset/uwb_dataset_part5.csv')\n",
    "df6 = pd.read_csv('./dataset/UWB-LOS-NLOS-Data-Set/dataset/uwb_dataset_part6.csv')\n",
    "df7 = pd.read_csv('./dataset/UWB-LOS-NLOS-Data-Set/dataset/uwb_dataset_part7.csv')\n",
    "\n",
    "# Consolidating the datasets into a single DataFrame\n",
    "df = pd.concat([df1, df2, df3, df4, df5, df6, df7])\n",
    "\n",
    "full_training = []\n",
    "full_testing = []\n",
    "\n",
    "# Stratified sampling based on 'NLOS' column iterate through EACH df INDIVIDUALLY!\n",
    "for x in range (1,8):\n",
    "    train, test = train_test_split(locals()[f'df{x}'], test_size=0.2, stratify=locals()[f'df{x}']['NLOS'], random_state=42)\n",
    "    full_training.append(train)\n",
    "    full_testing.append(test)\n",
    "\n",
    "# Concatenate the training and testing DataFrames\n",
    "df_training = pd.concat(full_training)\n",
    "df_testing = pd.concat(full_testing)\n",
    "\n",
    "# Combine everything back together\n",
    "df_combined = pd.concat([df_training, df_testing])\n",
    "\n",
    "# Display the combined DataFrame\n",
    "print(df_combined)"
   ]
  },
  {
   "cell_type": "markdown",
   "metadata": {},
   "source": []
  }
 ],
 "metadata": {
  "kernelspec": {
   "display_name": ".venv",
   "language": "python",
   "name": "python3"
  },
  "language_info": {
   "codemirror_mode": {
    "name": "ipython",
    "version": 3
   },
   "file_extension": ".py",
   "mimetype": "text/x-python",
   "name": "python",
   "nbconvert_exporter": "python",
   "pygments_lexer": "ipython3",
   "version": "3.10.11"
  }
 },
 "nbformat": 4,
 "nbformat_minor": 2
}
